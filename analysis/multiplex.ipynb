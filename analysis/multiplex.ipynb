{
 "cells": [
  {
   "cell_type": "code",
   "execution_count": 21,
   "id": "881b5a43-8ff1-4a81-9ddb-36fdb9b58bf6",
   "metadata": {},
   "outputs": [
    {
     "name": "stdout",
     "output_type": "stream",
     "text": [
      "The jupyter_black extension is already loaded. To reload it, use:\n",
      "  %reload_ext jupyter_black\n"
     ]
    }
   ],
   "source": [
    "import fragment_analyzer\n",
    "import matplotlib.pyplot as plt\n",
    "from Bio import SeqIO\n",
    "from pathlib import Path\n",
    "import pandas as pd\n",
    "import numpy as np\n",
    "from natsort import natsorted\n",
    "\n",
    "%load_ext jupyter_black"
   ]
  },
  {
   "cell_type": "code",
   "execution_count": 22,
   "id": "3295d5e4-7437-48e8-8487-496f9b3d09dd",
   "metadata": {},
   "outputs": [
    {
     "data": {
      "text/plain": [
       "PosixPath('demo/230314_mutliplex_and_hex/PRTmultiplex_2__4091_B10_Dx.fsa')"
      ]
     },
     "execution_count": 22,
     "metadata": {},
     "output_type": "execute_result"
    }
   ],
   "source": [
    "data = natsorted(\n",
    "    [x for x in Path(\"demo/230314_mutliplex_and_hex//\").iterdir() if x.suffix == \".fsa\"]\n",
    ")\n",
    "\n",
    "multiplex = [x for x in data if \"multiplex\" in x.stem]"
   ]
  },
  {
   "cell_type": "code",
   "execution_count": 45,
   "id": "3bb524a4-54c9-4ed1-aa04-98dbeafde04e",
   "metadata": {},
   "outputs": [
    {
     "name": "stdout",
     "output_type": "stream",
     "text": [
      "11 peaks found in PRTmultiplex_8__4091_H10_Dx.fsa\n",
      "4 assays in PRTmultiplex_8__4091_H10_Dx.fsa\n"
     ]
    },
    {
     "data": {
      "text/plain": [
       "0"
      ]
     },
     "execution_count": 45,
     "metadata": {},
     "output_type": "execute_result"
    }
   ],
   "source": [
    "# REPORT\n",
    "fragment_analyzer.peak_area_report(\n",
    "    fsa_file=multiplex[7],\n",
    "    ladder=\"LIZ\",\n",
    "    folder=\"report_multiplex\",\n",
    "    peak_model=\"gauss\",\n",
    "    min_height=25,\n",
    ")"
   ]
  }
 ],
 "metadata": {
  "kernelspec": {
   "display_name": "Python 3 (ipykernel)",
   "language": "python",
   "name": "python3"
  },
  "language_info": {
   "codemirror_mode": {
    "name": "ipython",
    "version": 3
   },
   "file_extension": ".py",
   "mimetype": "text/x-python",
   "name": "python",
   "nbconvert_exporter": "python",
   "pygments_lexer": "ipython3",
   "version": "3.10.8"
  }
 },
 "nbformat": 4,
 "nbformat_minor": 5
}
